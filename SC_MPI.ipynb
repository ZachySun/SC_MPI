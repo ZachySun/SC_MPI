{
 "cells": [
  {
   "cell_type": "code",
   "execution_count": 1,
   "id": "similar-madness",
   "metadata": {},
   "outputs": [
    {
     "name": "stdout",
     "output_type": "stream",
     "text": [
      "Looking in indexes: https://mirrors.aliyun.com/pypi/simple/\n",
      "Requirement already satisfied: sklearn in /root/miniconda3/envs/myconda/lib/python3.5/site-packages (0.0)\n",
      "Requirement already satisfied: scikit-learn in /root/miniconda3/envs/myconda/lib/python3.5/site-packages (from sklearn) (0.22.2.post1)\n",
      "Requirement already satisfied: numpy>=1.11.0 in /root/miniconda3/envs/myconda/lib/python3.5/site-packages (from scikit-learn->sklearn) (1.14.0)\n",
      "Requirement already satisfied: joblib>=0.11 in /root/miniconda3/envs/myconda/lib/python3.5/site-packages (from scikit-learn->sklearn) (0.14.1)\n",
      "Requirement already satisfied: scipy>=0.17.0 in /root/miniconda3/envs/myconda/lib/python3.5/site-packages (from scikit-learn->sklearn) (1.4.1)\n"
     ]
    }
   ],
   "source": [
    "! pip install sklearn"
   ]
  },
  {
   "cell_type": "code",
   "execution_count": 2,
   "id": "acquired-jackson",
   "metadata": {},
   "outputs": [
    {
     "name": "stderr",
     "output_type": "stream",
     "text": [
      "Using TensorFlow backend.\n"
     ]
    }
   ],
   "source": [
    "import numpy as np\n",
    "from keras.datasets import mnist\n",
    "from numpy import linalg as la\n",
    "from sklearn.cluster import AgglomerativeClustering"
   ]
  },
  {
   "cell_type": "markdown",
   "id": "global-uzbekistan",
   "metadata": {},
   "source": [
    "Input:K,G,k,$\\alpha$   \n",
    "Output:U"
   ]
  },
  {
   "cell_type": "code",
   "execution_count": 3,
   "id": "simplified-colonial",
   "metadata": {},
   "outputs": [],
   "source": [
    "# Create X\n",
    "def get_mnist():\n",
    "    np.random.seed(123)\n",
    "    (x_train, y_train), (x_test, y_test) = mnist.load_data()\n",
    "    x_all = np.concatenate((x_train, x_test), axis = 0)\n",
    "    Y = np.concatenate((y_train, y_test), axis = 0)\n",
    "    X = x_all.reshape(-1,x_all.shape[1]*x_all.shape[2])\n",
    "    \n",
    "    p = np.random.permutation(X.shape[0])\n",
    "    X = X[p].astype(np.float32)*0.02\n",
    "    Y = Y[p]\n",
    "    return X[:10000], Y[:10000]\n",
    "\n",
    "X, Y  = get_mnist()"
   ]
  },
  {
   "cell_type": "code",
   "execution_count": 4,
   "id": "potential-addition",
   "metadata": {},
   "outputs": [
    {
     "data": {
      "text/plain": [
       "array([0, 9, 4, ..., 5, 9, 7], dtype=uint8)"
      ]
     },
     "execution_count": 4,
     "metadata": {},
     "output_type": "execute_result"
    }
   ],
   "source": [
    "Y"
   ]
  },
  {
   "cell_type": "code",
   "execution_count": 5,
   "id": "driven-reception",
   "metadata": {},
   "outputs": [],
   "source": [
    "# Create K\n",
    "n=len(Y)\n",
    "K = np.zeros((n,n))\n",
    "for i in range(n):\n",
    "    for j in range(n):\n",
    "        K[i,j] = np.dot(X[i],X[j])"
   ]
  },
  {
   "cell_type": "code",
   "execution_count": 6,
   "id": "interesting-proportion",
   "metadata": {},
   "outputs": [],
   "source": [
    "# Create G\n",
    "def convert(arr): \n",
    "    \n",
    "    x_num = arr.shape[0]\n",
    "    y_num = arr.shape[1]\n",
    "    \n",
    "    row = []\n",
    "    line = []\n",
    "    \n",
    "    g = np.zeros((x_num,x_num))\n",
    "    \n",
    "    ## constraint_a\n",
    "    for i in range(y_num):\n",
    "        for j in  range(x_num):\n",
    "            for k in range(x_num):\n",
    "                if (arr[j,i] == arr[k,i] and arr[j,i] == 1) or j == k:\n",
    "                    g[j,k] = 1 \n",
    "                    g[k,j] = 1 \n",
    "    \n",
    "    ## constraint_b\n",
    "    for i in range(y_num):\n",
    "        for j in range(x_num):\n",
    "            if arr[j,i] == 1:   \n",
    "                row.append(j)\n",
    "                line.append(i)\n",
    "                \n",
    "    num = len(row)\n",
    "    \n",
    "    for m in range(num):\n",
    "        for n in range(num):\n",
    "            if  line[m] != line[n]:\n",
    "                g[row[m],row[n]] = -1\n",
    "                g[row[n],row[m]] = -1\n",
    "          \n",
    "    ## constraint_c\n",
    "    for i in range(y_num):\n",
    "        for j in  range(x_num):\n",
    "            for k in range(x_num):\n",
    "                if (arr[j,i] == 1 and arr[k,i] == -1) or (arr[j,i] == -1 and arr[k,i] == 1):\n",
    "                    g[j,k] = -1 \n",
    "                    g[k,j] = -1 \n",
    "    \n",
    "    ## constraint_d and constraint_e\n",
    "    km = []\n",
    "    \n",
    "    for i in range(x_num):\n",
    "        if arr[i].sum() == -(y_num-1):\n",
    "            km.append(i)\n",
    "    \n",
    "    km_num = len(km)\n",
    "    \n",
    "    for i in range(km_num):\n",
    "        for j in range(km_num):\n",
    "            if (arr[km[i]]*arr[km[j]]).sum() == y_num-1:\n",
    "                g[km[i],km[j]] = 1\n",
    "                g[km[j],km[i]] = 1\n",
    "            else:\n",
    "                g[km[i],km[j]] = -1\n",
    "                g[km[j],km[i]] = -1\n",
    "           \n",
    "    return g\n",
    "def convert_label_constraints(Y, k):\n",
    "    num = len(Y)\n",
    "    a = np.zeros((num,k))\n",
    "    for i in range(num):\n",
    "        a[i,Y[i]] = 1\n",
    "    b = convert(a)\n",
    "    return b"
   ]
  },
  {
   "cell_type": "code",
   "execution_count": 7,
   "id": "looking-cowboy",
   "metadata": {},
   "outputs": [],
   "source": [
    "G=convert_label_constraints(Y,10)"
   ]
  },
  {
   "cell_type": "code",
   "execution_count": 8,
   "id": "wrapped-ceremony",
   "metadata": {},
   "outputs": [],
   "source": [
    "# k & alpha\n",
    "k = 10\n",
    "alpha = 1"
   ]
  },
  {
   "cell_type": "code",
   "execution_count": 9,
   "id": "challenging-timothy",
   "metadata": {},
   "outputs": [],
   "source": [
    "# Hierarchical clustering"
   ]
  },
  {
   "cell_type": "code",
   "execution_count": 10,
   "id": "laughing-multiple",
   "metadata": {},
   "outputs": [],
   "source": [
    "# Step1 and Step2\n",
    "def get_k_eig_ve(K,k,alpha,*args):\n",
    "    n = len(K)\n",
    "    GG = np.zeros((n,n))\n",
    "    for arg in args:\n",
    "        GG = GG + arg\n",
    "    KG = K + alpha*GG\n",
    "    KG = KG.reshape(n,n)\n",
    "    eig_va, eig_ve = la.eig(KG)\n",
    "    return eig_ve[:k]"
   ]
  },
  {
   "cell_type": "code",
   "execution_count": 11,
   "id": "cleared-suite",
   "metadata": {},
   "outputs": [],
   "source": [
    "u = get_k_eig_ve(K,10,1,G)"
   ]
  },
  {
   "cell_type": "code",
   "execution_count": 12,
   "id": "stable-exposure",
   "metadata": {},
   "outputs": [
    {
     "data": {
      "text/plain": [
       "(10000, 10)"
      ]
     },
     "execution_count": 12,
     "metadata": {},
     "output_type": "execute_result"
    }
   ],
   "source": [
    "u_t = u.T\n",
    "u_t.shape"
   ]
  },
  {
   "cell_type": "code",
   "execution_count": 13,
   "id": "light-suite",
   "metadata": {},
   "outputs": [],
   "source": [
    "# Step3\n",
    "clustering = AgglomerativeClustering(n_clusters=10,linkage='ward').fit(u_t)"
   ]
  },
  {
   "cell_type": "code",
   "execution_count": 14,
   "id": "knowing-mountain",
   "metadata": {},
   "outputs": [
    {
     "data": {
      "text/plain": [
       "array([1, 5, 9, ..., 9, 4, 4])"
      ]
     },
     "execution_count": 14,
     "metadata": {},
     "output_type": "execute_result"
    }
   ],
   "source": [
    "U = clustering.labels_\n",
    "U"
   ]
  },
  {
   "cell_type": "code",
   "execution_count": 15,
   "id": "short-patient",
   "metadata": {},
   "outputs": [],
   "source": [
    "# accuracy\n",
    "def accuracy(Y,U):\n",
    "    right=0\n",
    "    for i in range(len(U)):\n",
    "        if Y[i] == U[i]:\n",
    "            right = right+1\n",
    "    acc = right/len(U)\n",
    "    return acc"
   ]
  },
  {
   "cell_type": "code",
   "execution_count": 16,
   "id": "exclusive-titanium",
   "metadata": {},
   "outputs": [
    {
     "data": {
      "text/plain": [
       "0.1003"
      ]
     },
     "execution_count": 16,
     "metadata": {},
     "output_type": "execute_result"
    }
   ],
   "source": [
    "accuracy(Y,U)"
   ]
  },
  {
   "cell_type": "code",
   "execution_count": 17,
   "id": "coral-italian",
   "metadata": {},
   "outputs": [
    {
     "data": {
      "text/plain": [
       "0.0288"
      ]
     },
     "execution_count": 17,
     "metadata": {},
     "output_type": "execute_result"
    }
   ],
   "source": [
    "clustering = AgglomerativeClustering(n_clusters=10,linkage='ward').fit(X)\n",
    "UX = clustering.labels_\n",
    "accuracy(Y,UX)"
   ]
  },
  {
   "cell_type": "code",
   "execution_count": 18,
   "id": "buried-viking",
   "metadata": {},
   "outputs": [
    {
     "data": {
      "text/plain": [
       "0.0984"
      ]
     },
     "execution_count": 18,
     "metadata": {},
     "output_type": "execute_result"
    }
   ],
   "source": [
    "clustering = AgglomerativeClustering(n_clusters=10,linkage='single').fit(X)\n",
    "UXX = clustering.labels_\n",
    "accuracy(Y,UXX)"
   ]
  },
  {
   "cell_type": "code",
   "execution_count": 19,
   "id": "particular-china",
   "metadata": {},
   "outputs": [
    {
     "data": {
      "text/plain": [
       "0.0988"
      ]
     },
     "execution_count": 19,
     "metadata": {},
     "output_type": "execute_result"
    }
   ],
   "source": [
    "clustering = AgglomerativeClustering(n_clusters=10,linkage='complete').fit(X)\n",
    "UXXX = clustering.labels_\n",
    "accuracy(Y,UXXX)"
   ]
  },
  {
   "cell_type": "code",
   "execution_count": 20,
   "id": "material-kingston",
   "metadata": {},
   "outputs": [
    {
     "data": {
      "text/plain": [
       "0.0239"
      ]
     },
     "execution_count": 20,
     "metadata": {},
     "output_type": "execute_result"
    }
   ],
   "source": [
    "clustering = AgglomerativeClustering(n_clusters=10,linkage='average').fit(X)\n",
    "UXXXX = clustering.labels_\n",
    "accuracy(Y,UXXXX)"
   ]
  },
  {
   "cell_type": "code",
   "execution_count": 28,
   "id": "decimal-battlefield",
   "metadata": {},
   "outputs": [
    {
     "data": {
      "text/plain": [
       "0.0239"
      ]
     },
     "execution_count": 28,
     "metadata": {},
     "output_type": "execute_result"
    }
   ],
   "source": [
    "from sklearn.cluster import KMeans\n",
    "clf = KMeans(n_clusters=10,init='k-means++')\n",
    "S = clf.fit(X)\n",
    "UXXXXX=clf.labels_\n",
    "accuracy(Y,UXXXX)"
   ]
  }
 ],
 "metadata": {
  "kernelspec": {
   "display_name": "Python 3",
   "language": "python",
   "name": "python3"
  },
  "language_info": {
   "codemirror_mode": {
    "name": "ipython",
    "version": 3
   },
   "file_extension": ".py",
   "mimetype": "text/x-python",
   "name": "python",
   "nbconvert_exporter": "python",
   "pygments_lexer": "ipython3",
   "version": "3.6.12"
  },
  "toc": {
   "base_numbering": 1,
   "nav_menu": {},
   "number_sections": true,
   "sideBar": true,
   "skip_h1_title": false,
   "title_cell": "Table of Contents",
   "title_sidebar": "Contents",
   "toc_cell": false,
   "toc_position": {},
   "toc_section_display": true,
   "toc_window_display": false
  }
 },
 "nbformat": 4,
 "nbformat_minor": 5
}
